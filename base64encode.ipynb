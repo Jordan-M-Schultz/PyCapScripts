{
 "cells": [
  {
   "cell_type": "markdown",
   "metadata": {},
   "source": [
    "# Base64 encoding MyPHD keys "
   ]
  },
  {
   "cell_type": "markdown",
   "metadata": {},
   "source": [
    "This script leverages PyCap to do the following:\n",
    "\n",
    "1. Downloads MyPHD keys from a given project\n",
    "2. Encodes them as base64\n",
    "3. Uploads resulting string as a field for each record"
   ]
  },
  {
   "cell_type": "markdown",
   "metadata": {},
   "source": [
    "### Setup\n",
    "\n"
   ]
  },
  {
   "cell_type": "code",
   "execution_count": null,
   "metadata": {
    "pycharm": {
     "is_executing": true
    }
   },
   "outputs": [],
   "source": [
    "# Create and activate virtual environment\n",
    "! python3 -m venv venv\n",
    "! source ./venv/bin/activate venv\n",
    "\n",
    "# Install kernel \n",
    "! pip install ipykernel\n",
    "! python3 -m ipykernel install --user \n",
    "\n",
    "# Create environmental file, follow the example to fill in the necessary variables\n",
    "! touch .env\n",
    "\n",
    "# If you are using VsCode: Ensure in python3 venv interpreter is selected with Ctrl+Shift+P"
   ]
  },
  {
   "cell_type": "markdown",
   "metadata": {},
   "source": [
    "### Install dependencies\n",
    "- Pycap is the package used to integrate with the REDCap API\n",
    "- Dotenv is a package used to handle environmental variables\n",
    "- If Pycap and Dotenv packages already installed on your system the script will attempt to update them."
   ]
  },
  {
   "cell_type": "code",
   "execution_count": 1,
   "metadata": {},
   "outputs": [
    {
     "name": "stdout",
     "output_type": "stream",
     "text": [
      "Collecting pycap\n",
      "  Downloading PyCap-2.2.0-py3-none-any.whl (34 kB)\n",
      "Collecting requests<3.0,>=2.20\n",
      "  Using cached requests-2.28.1-py3-none-any.whl (62 kB)\n",
      "Collecting semantic-version<3.0.0,>=2.8.5\n",
      "  Using cached semantic_version-2.10.0-py2.py3-none-any.whl (15 kB)\n",
      "Collecting charset-normalizer<3,>=2\n",
      "  Using cached charset_normalizer-2.1.1-py3-none-any.whl (39 kB)\n",
      "Collecting certifi>=2017.4.17\n",
      "  Downloading certifi-2022.9.24-py3-none-any.whl (161 kB)\n",
      "\u001b[2K     \u001b[90m━━━━━━━━━━━━━━━━━━━━━━━━━━━━━━━━━━━━━━━\u001b[0m \u001b[32m161.1/161.1 kB\u001b[0m \u001b[31m7.7 MB/s\u001b[0m eta \u001b[36m0:00:00\u001b[0m\n",
      "\u001b[?25hCollecting urllib3<1.27,>=1.21.1\n",
      "  Downloading urllib3-1.26.13-py2.py3-none-any.whl (140 kB)\n",
      "\u001b[2K     \u001b[90m━━━━━━━━━━━━━━━━━━━━━━━━━━━━━━━━━━━━━━━\u001b[0m \u001b[32m140.6/140.6 kB\u001b[0m \u001b[31m8.8 MB/s\u001b[0m eta \u001b[36m0:00:00\u001b[0m\n",
      "\u001b[?25hRequirement already satisfied: idna<4,>=2.5 in ./venv/lib/python3.9/site-packages (from requests<3.0,>=2.20->pycap) (3.4)\n",
      "Installing collected packages: urllib3, semantic-version, charset-normalizer, certifi, requests, pycap\n",
      "Successfully installed certifi-2022.9.24 charset-normalizer-2.1.1 pycap-2.2.0 requests-2.28.1 semantic-version-2.10.0 urllib3-1.26.13\n",
      "Collecting python-dotenv\n",
      "  Using cached python_dotenv-0.21.0-py3-none-any.whl (18 kB)\n",
      "Installing collected packages: python-dotenv\n",
      "Successfully installed python-dotenv-0.21.0\n"
     ]
    }
   ],
   "source": [
    "\n",
    "! pip install --upgrade pycap\n",
    "! pip install --upgrade python-dotenv"
   ]
  },
  {
   "cell_type": "markdown",
   "metadata": {},
   "source": [
    "## Script Execution"
   ]
  },
  {
   "cell_type": "markdown",
   "metadata": {},
   "source": [
    "### Import dependencies\n",
    "  - Make sure to update `.env` if saved somewhere else.\n",
    "  - Attribute `override` will prevent caching of `.env` values and reload them everytime script runs."
   ]
  },
  {
   "cell_type": "code",
   "execution_count": 2,
   "metadata": {
    "pycharm": {
     "is_executing": true
    }
   },
   "outputs": [
    {
     "name": "stderr",
     "output_type": "stream",
     "text": [
      "INFO:root:Main libraries are loaded\n"
     ]
    }
   ],
   "source": [
    "import os\n",
    "import base64\n",
    "import logging\n",
    "from datetime import datetime\n",
    "from dotenv import load_dotenv\n",
    "from redcap import Project, RedcapError\n",
    "logging.getLogger().setLevel(logging.INFO)\n",
    "load_dotenv('.env', override=True)\n",
    "logging.info('Main libraries are loaded')"
   ]
  },
  {
   "cell_type": "markdown",
   "metadata": {
    "collapsed": false
   },
   "source": [
    "### Default variable fields\n",
    "These fields can be set according to your REDCap project"
   ]
  },
  {
   "cell_type": "code",
   "execution_count": 3,
   "metadata": {
    "collapsed": false
   },
   "outputs": [],
   "source": [
    "local = True # Whether or not to attempt to handle keys in a local folder \n",
    "\n",
    "recordFileField = 'upload' # Field to pull from, used if local is False\n",
    "folderFilePath = '/Users/jmschult/Desktop/Work/Pycap/testfiles' # Absolute path to key folder, used if local is True\n",
    "\n",
    "recordPrimaryKey = 'record_id' # General ID field of record\n",
    "recordUploadField = 'key_base64' # Field to upload resulting data to"
   ]
  },
  {
   "cell_type": "code",
   "execution_count": null,
   "metadata": {
    "collapsed": false
   },
   "outputs": [],
   "source": [
    "error = []\n",
    "\n",
    "if not os.getenv('REDCAP_API_KEY') or not os.getenv('REDCAP_API_URL'):\n",
    "    error.append('Environmental variables have not been set. Please update your .env file')\n",
    "else:\n",
    "    try:\n",
    "        # Initialize connection to project\n",
    "        project = Project(str(os.getenv('REDCAP_API_URL')), str(os.getenv('REDCAP_API_KEY')))\n",
    "        newRecords = []\n",
    "        files = 0\n",
    "\n",
    "        if not local: # Attempt to fetch key information from REDCap\n",
    "            # Grab all record IDs\n",
    "            records = project.export_records(\n",
    "                format_type='json',\n",
    "                fields=[recordPrimaryKey],\n",
    "                raw_or_label='raw'\n",
    "            )\n",
    "\n",
    "            for record in records:\n",
    "                if(int(record[recordPrimaryKey])):\n",
    "                    # Grab key file from record\n",
    "                    logging.getLogger('process').info('Processing Record Id:' + record[recordPrimaryKey])\n",
    "                    key = project.export_file(\n",
    "                        record=record[recordPrimaryKey],\n",
    "                        field=recordFileField\n",
    "                    )\n",
    "\n",
    "                    if key:\n",
    "                        # encode as base64, convert to string representation and store\n",
    "                        encoded = base64.b64encode(key[0])\n",
    "                        newRecord = {\n",
    "                            recordPrimaryKey: int(record[recordPrimaryKey]),\n",
    "                            recordUploadField: encoded.decode('ascii')\n",
    "                        }\n",
    "                        newRecords.append(newRecord)\n",
    "                    else:\n",
    "                        error.append(f'Record {record[recordPrimaryKey]} has no file uploaded with the field name {recordFileField}')\n",
    "            files = len(records)\n",
    "        \n",
    "        else: \n",
    "            with os.scandir(folderFilePath) as it:\n",
    "                for entry in it: \n",
    "                    files+=1\n",
    "                    if entry.is_file():\n",
    "                        with open(entry.path, 'r') as f:\n",
    "                            data = f.read()\n",
    "                            bytes = data.encode('ascii') # data must be encoded before base64\n",
    "                            encoded = base64.b64encode(bytes)\n",
    "                            newRecord = {\n",
    "                                recordPrimaryKey: entry.name,\n",
    "                                recordUploadField: encoded.decode('ascii')\n",
    "                            }\n",
    "                            newRecords.append(newRecord)\n",
    "        # upload result                            \n",
    "        result = project.import_records(newRecords)\n",
    "        logging.getLogger('process').info(str(result['count']) + ' out of ' + str(files) + ' records are successfully processed!')\n",
    "        \n",
    "    except RedcapError as e:\n",
    "        error.append(f'REDCap Error : {e}')\n",
    "    except ValueError as e:\n",
    "        error.append(f'Value Error : {e}')\n",
    "\n",
    "# Log errors if any\n",
    "if len(error):\n",
    "    time = datetime.now().strftime('%B %d, %Y %H:%M:%S')\n",
    "    logging.error(f'\\n\\n####### Error log for script execution on {time}\\n')\n",
    "    logging.error('\\n'.join(error))"
   ]
  }
 ],
 "metadata": {
  "kernelspec": {
   "display_name": "Python 3.9.6 ('venv': venv)",
   "language": "python",
   "name": "python3"
  },
  "language_info": {
   "codemirror_mode": {
    "name": "ipython",
    "version": 3
   },
   "file_extension": ".py",
   "mimetype": "text/x-python",
   "name": "python",
   "nbconvert_exporter": "python",
   "pygments_lexer": "ipython3",
   "version": "3.9.6"
  },
  "vscode": {
   "interpreter": {
    "hash": "0b70bf9ff0d9a40d374daa7dead8de1baaaaba92128243659e4a36d447d90b66"
   }
  }
 },
 "nbformat": 4,
 "nbformat_minor": 2
}
