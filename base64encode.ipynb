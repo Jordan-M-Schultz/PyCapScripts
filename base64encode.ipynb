{
 "cells": [
  {
   "cell_type": "markdown",
   "metadata": {},
   "source": [
    "# Base64 encoding MyPHD keys "
   ]
  },
  {
   "cell_type": "markdown",
   "metadata": {},
   "source": [
    "This script leverages PyCap to do the following:\n",
    "\n",
    "1. Downloads MyPHD keys from a given project\n",
    "2. Encodes them as base64\n",
    "3. Uploads resulting string as a field for each record"
   ]
  },
  {
   "cell_type": "markdown",
   "metadata": {},
   "source": [
    "### Setup\n",
    "\n"
   ]
  },
  {
   "cell_type": "code",
   "execution_count": null,
   "metadata": {
    "pycharm": {
     "is_executing": true
    }
   },
   "outputs": [],
   "source": [
    "# Create and activate virtual environment\n",
    "! python3 -m venv venv\n",
    "! source ./venv/bin/activate venv\n",
    "\n",
    "# Install kernel \n",
    "! pip install ipykernel\n",
    "! python3 -m ipykernel install --user \n",
    "\n",
    "# Create environmental file, follow the example to fill in the necessary variables\n",
    "! touch .env\n",
    "\n",
    "# If you are using VsCode: Ensure in python3 venv interpreter is selected with Ctrl+Shift+P"
   ]
  },
  {
   "cell_type": "markdown",
   "metadata": {},
   "source": [
    "### Install dependencies\n",
    "- Pycap is the package used to integrate with the REDCap API\n",
    "- Dotenv is a package used to handle environmental variables\n",
    "- If Pycap and Dotenv packages already installed on your system the script will attempt to update them."
   ]
  },
  {
   "cell_type": "code",
   "execution_count": 7,
   "metadata": {},
   "outputs": [],
   "source": [
    "\n",
    "! pip install --upgrade pycap\n",
    "! pip install --upgrade python-dotenv"
   ]
  },
  {
   "cell_type": "markdown",
   "metadata": {},
   "source": [
    "## Script Execution"
   ]
  },
  {
   "cell_type": "markdown",
   "metadata": {},
   "source": [
    "### Import dependencies\n",
    "  - Make sure to update `.env` if saved somewhere else.\n",
    "  - Attribute `override` will prevent caching of `.env` values and reload them everytime script runs."
   ]
  },
  {
   "cell_type": "code",
   "execution_count": 1,
   "metadata": {},
   "outputs": [
    {
     "name": "stderr",
     "output_type": "stream",
     "text": [
      "INFO:root:Main libraries are loaded\n"
     ]
    }
   ],
   "source": [
    "import os\n",
    "import base64\n",
    "import logging\n",
    "from datetime import datetime\n",
    "from dotenv import load_dotenv\n",
    "from redcap import Project, RedcapError\n",
    "logging.getLogger().setLevel(logging.INFO)\n",
    "load_dotenv('.env', override=True)\n",
    "logging.info('Main libraries are loaded')"
   ]
  },
  {
   "cell_type": "markdown",
   "source": [
    "### Default variable fields\n",
    "These fields can be set according to your REDCap project"
   ],
   "metadata": {
    "collapsed": false
   }
  },
  {
   "cell_type": "code",
   "execution_count": 24,
   "outputs": [],
   "source": [
    "recordPrimaryKey = 'record_id' # General ID field of record\n",
    "recordFileField = 'upload' # Field to pull from\n",
    "recordUploadField = 'base64' # Field to upload resulting data to"
   ],
   "metadata": {
    "collapsed": false
   }
  },
  {
   "cell_type": "code",
   "execution_count": 35,
   "outputs": [],
   "source": [
    "error = []\n",
    "\n",
    "if not os.getenv('REDCAP_API_KEY') or not os.getenv('REDCAP_API_URL'):\n",
    "    error.append('Environmental variables have not been set. Please update your .env file')\n",
    "else:\n",
    "    try:\n",
    "\n",
    "        # Initialize connection to project\n",
    "        project = Project(str(os.getenv('REDCAP_API_URL')), str(os.getenv('REDCAP_API_KEY')))\n",
    "\n",
    "        # Grab all record IDs\n",
    "        records = project.export_records(\n",
    "            format_type='json',\n",
    "            fields=[recordPrimaryKey],\n",
    "            raw_or_label='raw'\n",
    "        )\n",
    "        newRecords = []\n",
    "\n",
    "        for record in records:\n",
    "            if(int(record[recordPrimaryKey])):\n",
    "                # Grab key file from record\n",
    "                logging.getLogger('process').info('Processing Record Id:' + record[recordPrimaryKey])\n",
    "                key = project.export_file(\n",
    "                    record=record[recordPrimaryKey],\n",
    "                    field=recordFileField\n",
    "                )\n",
    "\n",
    "                if key:\n",
    "                    # encode as base64, convert to string representation and store\n",
    "                    encoded = base64.b64encode(key[0])\n",
    "                    newRecord = {\n",
    "                        recordPrimaryKey: int(record[recordPrimaryKey]),\n",
    "                        recordUploadField: encoded.decode('ascii')\n",
    "                    }\n",
    "                    newRecords.append(newRecord)\n",
    "                else:\n",
    "                    error.append(f'Record {record[recordPrimaryKey]} has no file uploaded with the field name {recordFileField}')\n",
    "\n",
    "        # import all new records\n",
    "        result = project.import_records(newRecords)\n",
    "        logging.getLogger('process').info(str(result['count']) + ' out of ' + str(len(records)) + ' records are successfully processed!')\n",
    "    except RedcapError as e:\n",
    "        error.append(f'REDCap Error : {e}')\n",
    "    except ValueError as e:\n",
    "        error.append(f'Value Error : {e}')\n",
    "\n",
    "# Log errors if any\n",
    "if len(error):\n",
    "    time = datetime.now().strftime('%B %d, %Y %H:%M:%S')\n",
    "    logging.error(f'\\n\\n####### Error log for script execution on {time}\\n')\n",
    "    logging.error('\\n'.join(error))"
   ],
   "metadata": {
    "collapsed": false
   }
  }
 ],
 "metadata": {
  "interpreter": {
   "hash": "31f2aee4e71d21fbe5cf8b01ff0e069b9275f58929596ceb00d14d90e3e16cd6"
  },
  "kernelspec": {
   "display_name": "Python 3 (ipykernel)",
   "language": "python",
   "name": "python3"
  },
  "language_info": {
   "codemirror_mode": {
    "name": "ipython",
    "version": 3
   },
   "file_extension": ".py",
   "mimetype": "text/x-python",
   "name": "python",
   "nbconvert_exporter": "python",
   "pygments_lexer": "ipython3",
   "version": "3.9.6"
  }
 },
 "nbformat": 4,
 "nbformat_minor": 2
}
